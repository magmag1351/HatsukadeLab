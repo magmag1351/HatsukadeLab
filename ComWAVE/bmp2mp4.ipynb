{
 "cells": [
  {
   "cell_type": "markdown",
   "id": "20dc46c6",
   "metadata": {},
   "source": [
    "# 【ComWAVE用】ビットマップファイルからMP4に変換するプログラム"
   ]
  },
  {
   "cell_type": "markdown",
   "id": "37dfd943",
   "metadata": {},
   "source": [
    "必要に応じて以下のコマンドを入力し、ライブラリのインストールを行う <br>\n",
    "\n",
    "```\n",
    "pip install opencv-python\n",
    "```"
   ]
  },
  {
   "cell_type": "code",
   "execution_count": 2,
   "id": "bb5addb1",
   "metadata": {},
   "outputs": [
    {
     "name": "stdout",
     "output_type": "stream",
     "text": [
      "動画を 4 枚の画像から作成中...\n",
      "完了しました。\n"
     ]
    }
   ],
   "source": [
    "import cv2\n",
    "import os\n",
    "\n",
    "def create_video_with_opencv(image_folder, output_video_file, fps=24):\n",
    "    \"\"\"\n",
    "    OpenCVを使って指定されたフォルダ内の画像ファイルから動画を作成します。\n",
    "\n",
    "    Args:\n",
    "        image_folder (str): 画像ファイルが格納されているフォルダのパス\n",
    "        output_video_file (str): 出力する動画ファイルのパス\n",
    "        fps (int): フレームレート（1秒あたりのフレーム数）\n",
    "    \"\"\"\n",
    "    # フォルダ内のすべての画像ファイルを取得し、ファイル名でソート\n",
    "    image_files = sorted([os.path.join(image_folder, img) for img in os.listdir(image_folder) if img.endswith(('.bmp', '.png', '.jpg'))])\n",
    "\n",
    "    if not image_files:\n",
    "        print(f\"警告: {image_folder} フォルダに画像ファイルが見つかりません。\")\n",
    "        return\n",
    "\n",
    "    # 最初の画像を読み込み、動画のサイズを決定\n",
    "    first_image = cv2.imread(image_files[0])\n",
    "    if first_image is None:\n",
    "        print(\"エラー: 最初の画像を読み込めませんでした。\")\n",
    "        return\n",
    "\n",
    "    height, width, layers = first_image.shape\n",
    "    size = (width, height)\n",
    "\n",
    "    # 動画書き込みオブジェクトを作成\n",
    "    # コーデックを 'mp4v' に設定\n",
    "    fourcc = cv2.VideoWriter_fourcc(*'mp4v')\n",
    "    out = cv2.VideoWriter(output_video_file, fourcc, fps, size)\n",
    "\n",
    "    print(f\"動画を {len(image_files)} 枚の画像から作成中...\")\n",
    "\n",
    "    # 画像を1枚ずつ読み込み、動画に追加\n",
    "    for image_file in image_files:\n",
    "        img = cv2.imread(image_file)\n",
    "        if img is not None:\n",
    "            # 動画に追加する前に画像サイズが一致していることを確認\n",
    "            if img.shape[:2] != (height, width):\n",
    "                print(f\"警告: {image_file} のサイズが他と異なります。スキップします。\")\n",
    "                continue\n",
    "            out.write(img)\n",
    "        else:\n",
    "            print(f\"警告: {image_file} を読み込めませんでした。スキップします。\")\n",
    "\n",
    "    # 書き込みオブジェクトを解放\n",
    "    out.release()\n",
    "    print(\"完了しました。\")\n",
    "\n",
    "# --- 使い方 ---\n",
    "if __name__ == \"__main__\":\n",
    "    # 画像ファイルが格納されているフォルダを指定してください\n",
    "    image_directory = \"source/bmp\"  \n",
    "    # 出力する動画ファイル名を指定してください\n",
    "    output_filename = \"output/output_video_cv.mp4\"\n",
    "    \n",
    "    # フォルダが存在しない場合は作成\n",
    "    if not os.path.exists(image_directory):\n",
    "        print(f\"'{image_directory}' フォルダを作成しました。ここに画像を入れてください。\")\n",
    "        os.makedirs(image_directory)\n",
    "    else:\n",
    "        create_video_with_opencv(image_directory, output_filename)"
   ]
  }
 ],
 "metadata": {
  "kernelspec": {
   "display_name": "Python 3",
   "language": "python",
   "name": "python3"
  },
  "language_info": {
   "codemirror_mode": {
    "name": "ipython",
    "version": 3
   },
   "file_extension": ".py",
   "mimetype": "text/x-python",
   "name": "python",
   "nbconvert_exporter": "python",
   "pygments_lexer": "ipython3",
   "version": "3.10.12"
  }
 },
 "nbformat": 4,
 "nbformat_minor": 5
}
