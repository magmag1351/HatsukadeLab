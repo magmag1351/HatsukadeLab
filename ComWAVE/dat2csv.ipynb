{
 "cells": [
  {
   "cell_type": "markdown",
   "id": "312dbc31",
   "metadata": {},
   "source": [
    "# 【ComWAVE用】datファイルをcsvファイルに変換するプログラム"
   ]
  },
  {
   "cell_type": "code",
   "execution_count": null,
   "id": "59e4e584",
   "metadata": {},
   "outputs": [
    {
     "name": "stdout",
     "output_type": "stream",
     "text": [
      "✅ 'source/サンプル入力データ.dat' を 'output/output.csv' に変換しました。\n"
     ]
    }
   ],
   "source": [
    "import pandas as pd\n",
    "\n",
    "def convert_dat_to_csv(dat_filepath, csv_filepath, separator=' '):\n",
    "    \"\"\"\n",
    "    .datファイルを.csvファイルに変換する関数\n",
    "    :param dat_filepath: 変換元の.datファイルパス\n",
    "    :param csv_filepath: 変換先の.csvファイルパス\n",
    "    :param separator: .datファイル内のデータの区切り文字（デフォルトはスペース）\n",
    "    \"\"\"\n",
    "    try:\n",
    "        # .datファイルをデータフレームとして読み込む\n",
    "        # ヘッダーがない場合は header=None を指定\n",
    "        df = pd.read_csv(dat_filepath, sep='\\s+', header=None, engine='python' )\n",
    "\n",
    "        # データフレームを.csvファイルとして出力\n",
    "        df.to_csv(csv_filepath, index=False)\n",
    "\n",
    "        print(f\"✅ '{dat_filepath}' を '{csv_filepath}' に変換しました。\")\n",
    "        \n",
    "    except FileNotFoundError:\n",
    "        print(f\"❌ エラー: ファイル '{dat_filepath}' が見つかりません。\")\n",
    "    except Exception as e:\n",
    "        print(f\"❌ エラーが発生しました: {e}\")\n",
    "\n",
    "# 使用例\n",
    "# 変換したい.datファイル名と出力する.csvファイル名を指定\n",
    "dat_file = 'source/dat/サンプル入力データ.dat'\n",
    "csv_file = 'output/output.csv'\n",
    "\n",
    "convert_dat_to_csv(dat_file, csv_file)"
   ]
  },
  {
   "cell_type": "code",
   "execution_count": null,
   "id": "37e25036",
   "metadata": {},
   "outputs": [],
   "source": []
  }
 ],
 "metadata": {
  "kernelspec": {
   "display_name": "Python 3",
   "language": "python",
   "name": "python3"
  },
  "language_info": {
   "codemirror_mode": {
    "name": "ipython",
    "version": 3
   },
   "file_extension": ".py",
   "mimetype": "text/x-python",
   "name": "python",
   "nbconvert_exporter": "python",
   "pygments_lexer": "ipython3",
   "version": "3.10.12"
  }
 },
 "nbformat": 4,
 "nbformat_minor": 5
}
